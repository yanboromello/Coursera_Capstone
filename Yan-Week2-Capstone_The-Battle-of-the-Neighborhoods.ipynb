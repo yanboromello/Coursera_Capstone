{
 "cells": [
  {
   "cell_type": "markdown",
   "metadata": {},
   "source": [
    "# Capstone Project - The Battle of the Neighborhoods (Week 2)\n",
    "### Applied Data Science Capstone by IBM/Coursera"
   ]
  },
  {
   "cell_type": "markdown",
   "metadata": {},
   "source": [
    "## Table of contents\n",
    "* [Introduction: Business Problem](#introduction)\n",
    "* [Data](#data)\n",
    "* [Methodology](#methodology)\n",
    "* [Results and Discussion](#results)\n",
    "* [Conclusion](#conclusion)"
   ]
  },
  {
   "cell_type": "markdown",
   "metadata": {},
   "source": [
    "\n",
    "\n",
    "## Introduction: Business Problem <a name=\"introduction\"></a>"
   ]
  },
  {
   "cell_type": "markdown",
   "metadata": {},
   "source": [
    "In this project we will try to point out the places where people shouldn't go at all. \n",
    "\n",
    "Since there are lots of places with very low ratings, we will try to detect them and highlight it to the users so they can avoid a bad experience. We are interested in every type of places, be it a restaurant, a park, a club, etc.. \n",
    "\n",
    "We will use our data science powers to generate some of the worst places based on their ratings. The evaluation for each place will be expressed clearly, so the place can be noted and avoided by end users.\n",
    "\n",
    "All the end user will need to do is to set the city center he/she wants and we will highlight where he/she should get away."
   ]
  },
  {
   "cell_type": "markdown",
   "metadata": {},
   "source": [
    "## Data <a name=\"data\"></a>"
   ]
  },
  {
   "cell_type": "markdown",
   "metadata": {},
   "source": [
    "Based on definition of our problem, factors that will influence our decission are:\n",
    "* number of existing places where their grades are less than 6.0\n",
    "* distance of the place from city center\n",
    "\n",
    "We decided to use regularly spaced grid of locations, centered around city center, to define our neighborhoods.\n",
    "\n",
    "Following data sources will be needed to extract/generate the required information:\n",
    "* evaluation rating from the places, their type and location will be obtained using **Foursquare API**\n",
    "* To start the analysis, we will extract a latitude and longitude from New York city center using the Google. For new analysis, the user will only need to specify the new latitude and longitude data."
   ]
  },
  {
   "cell_type": "markdown",
   "metadata": {},
   "source": [
    "## Methodology <a name=\"methodology\"></a>"
   ]
  },
  {
   "cell_type": "markdown",
   "metadata": {},
   "source": [
    "In this project we will direct our efforts on detecting areas of a specified city (in this samples is New York city center) and their low rated places. We will consider all kind of venues, the minimum rating value will be determined by the user (in this sample is 6.0) and the area radius that will be checked is = 500.\n",
    "\n",
    "The first step was to plot a map of the specified address, marking it with a blue spot.\n",
    "\n",
    "In the second step we collected the data of the place nearby the specified address, using the foursquare API. With the venues id we where able to access its informations, such as name, latitude, longitude and the rating.\n",
    "\n",
    "In the third and final step, with all the venues and their ratings, we were able to filter the values based on the minimal rating value specified by the user (in this sample = 6.0). And with this filtered value, we could plot a new map, marking in red the places to be avoided by the user."
   ]
  },
  {
   "cell_type": "markdown",
   "metadata": {},
   "source": [
    "#### Installing Necessary libraries"
   ]
  },
  {
   "cell_type": "code",
   "execution_count": null,
   "metadata": {},
   "outputs": [],
   "source": [
    "!conda install -c conda-forge geopy --yes \n",
    "!conda install -c conda-forge folium=0.5.0 --yes"
   ]
  },
  {
   "cell_type": "markdown",
   "metadata": {},
   "source": [
    "#### Importing Necessary Libraries"
   ]
  },
  {
   "cell_type": "code",
   "execution_count": 1,
   "metadata": {},
   "outputs": [
    {
     "name": "stdout",
     "output_type": "stream",
     "text": [
      "Folium installed\n",
      "Libraries imported.\n"
     ]
    }
   ],
   "source": [
    "import requests # library to handle requests\n",
    "import pandas as pd # library for data analsysis\n",
    "import numpy as np # library to handle data in a vectorized manner\n",
    "import random # library for random number generation\n",
    "\n",
    "from geopy.geocoders import Nominatim # module to convert an address into latitude and longitude values\n",
    "\n",
    "# libraries for displaying images\n",
    "from IPython.display import Image \n",
    "from IPython.core.display import HTML \n",
    "    \n",
    "# tranforming json file into a pandas dataframe library\n",
    "from pandas.io.json import json_normalize\n",
    "\n",
    "import folium # plotting library\n",
    "\n",
    "print('Folium installed')\n",
    "print('Libraries imported.')"
   ]
  },
  {
   "cell_type": "markdown",
   "metadata": {},
   "source": [
    "# Foursquare Connection"
   ]
  },
  {
   "cell_type": "code",
   "execution_count": 15,
   "metadata": {},
   "outputs": [
    {
     "name": "stdout",
     "output_type": "stream",
     "text": [
      "Your credentails:\n",
      "CLIENT_ID: JQJQW40C5FYJHG3OXKKT0KCKYWPVQM4GXLJ453Z5YHA5ZISH\n",
      "CLIENT_SECRET:BOONQ5BMUHZ03WYNFU2REQ115M0OGNA2XAH3BFENFTNN4SRU\n"
     ]
    }
   ],
   "source": [
    "CLIENT_ID = 'PPM4QIGUKUD143FWO2JMHPNJULBEBEMC5Y3SPLKT42UTGAVM' # your Foursquare ID\n",
    "CLIENT_SECRET = 'CKQTVC4V1XFUOM23AMADFERICMWVRC5KOMO1FX2W5UDPQK1S' # your Foursquare Secret\n",
    "VERSION = '20180604'\n",
    "LIMIT = 30\n",
    "print('Your credentails:')\n",
    "print('CLIENT_ID: ' + CLIENT_ID)\n",
    "print('CLIENT_SECRET:' + CLIENT_SECRET)"
   ]
  },
  {
   "cell_type": "markdown",
   "metadata": {},
   "source": [
    "#### Getting Address latitude and Logitude"
   ]
  },
  {
   "cell_type": "markdown",
   "metadata": {},
   "source": [
    "##### * If you want to search for a new city, just define a new valid address below"
   ]
  },
  {
   "cell_type": "code",
   "execution_count": 3,
   "metadata": {},
   "outputs": [
    {
     "name": "stdout",
     "output_type": "stream",
     "text": [
      "40.7637566 -73.9796239\n"
     ]
    }
   ],
   "source": [
    "address = '131 W 55th St, New York, NY' \n",
    "\n",
    "geolocator = Nominatim(user_agent=\"foursquare_agent\")\n",
    "location = geolocator.geocode(address)\n",
    "latitude = location.latitude\n",
    "longitude = location.longitude\n",
    "print(latitude, longitude)"
   ]
  },
  {
   "cell_type": "code",
   "execution_count": 4,
   "metadata": {},
   "outputs": [
    {
     "name": "stdout",
     "output_type": "stream",
     "text": [
      "131, West 55th Street, Midtown, Manhattan, Manhattan Community Board 5, New York County, New York, 10019, United States of America\n"
     ]
    }
   ],
   "source": [
    "print(location)"
   ]
  },
  {
   "cell_type": "markdown",
   "metadata": {},
   "source": [
    "##### * If you want to define a new value for a the minimumRating, just define a new float value below"
   ]
  },
  {
   "cell_type": "code",
   "execution_count": null,
   "metadata": {},
   "outputs": [],
   "source": [
    "minimumRating = 6.0"
   ]
  },
  {
   "cell_type": "markdown",
   "metadata": {},
   "source": [
    "# Displaying specified city map, marking the city centes as blue"
   ]
  },
  {
   "cell_type": "code",
   "execution_count": 5,
   "metadata": {},
   "outputs": [
    {
     "data": {
      "text/html": [
       "<div style=\"width:100%;\"><div style=\"position:relative;width:100%;height:0;padding-bottom:60%;\"><span style=\"color:#565656\">Make this Notebook Trusted to load map: File -> Trust Notebook</span><iframe src=\"about:blank\" style=\"position:absolute;width:100%;height:100%;left:0;top:0;border:none !important;\" data-html=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 onload=\"this.contentDocument.open();this.contentDocument.write(atob(this.getAttribute('data-html')));this.contentDocument.close();\" allowfullscreen webkitallowfullscreen mozallowfullscreen></iframe></div></div>"
      ],
      "text/plain": [
       "<folium.folium.Map at 0x7f0943ac4588>"
      ]
     },
     "execution_count": 5,
     "metadata": {},
     "output_type": "execute_result"
    }
   ],
   "source": [
    "definedMap = folium.Map(location=[latitude, longitude], zoom_start=13) # generate map centred around the Conrad Hotel\n",
    "\n",
    "# add a red circle marker to represent the Conrad Hotel\n",
    "folium.features.CircleMarker(\n",
    "    [latitude, longitude],\n",
    "    radius=10,\n",
    "    color='red',\n",
    "    popup='Center',\n",
    "    fill = True,\n",
    "    fill_color = 'red',\n",
    "    fill_opacity = 0.6\n",
    ").add_to(definedMap)\n",
    "\n",
    "# display map\n",
    "definedMap"
   ]
  },
  {
   "cell_type": "markdown",
   "metadata": {},
   "source": [
    "# Accessing Foursquare Venues"
   ]
  },
  {
   "cell_type": "code",
   "execution_count": 16,
   "metadata": {},
   "outputs": [
    {
     "data": {
      "text/plain": [
       "'https://api.foursquare.com/v2/venues/search?client_id=JQJQW40C5FYJHG3OXKKT0KCKYWPVQM4GXLJ453Z5YHA5ZISH&client_secret=BOONQ5BMUHZ03WYNFU2REQ115M0OGNA2XAH3BFENFTNN4SRU&ll=40.7637566,-73.9796239&v=20180604&radius=500&limit=30'"
      ]
     },
     "execution_count": 16,
     "metadata": {},
     "output_type": "execute_result"
    }
   ],
   "source": [
    "radius = 500\n",
    "url = 'https://api.foursquare.com/v2/venues/search?client_id={}&client_secret={}&ll={},{}&v={}&radius={}&limit={}'.format(CLIENT_ID, CLIENT_SECRET, latitude, longitude, VERSION, radius, LIMIT)\n",
    "url"
   ]
  },
  {
   "cell_type": "code",
   "execution_count": 17,
   "metadata": {},
   "outputs": [],
   "source": [
    "results = requests.get(url).json()"
   ]
  },
  {
   "cell_type": "markdown",
   "metadata": {},
   "source": [
    "Get relevant part of the JSON file and tranform into a Pandas Df"
   ]
  },
  {
   "cell_type": "code",
   "execution_count": 18,
   "metadata": {},
   "outputs": [
    {
     "data": {
      "text/html": [
       "<div>\n",
       "<style scoped>\n",
       "    .dataframe tbody tr th:only-of-type {\n",
       "        vertical-align: middle;\n",
       "    }\n",
       "\n",
       "    .dataframe tbody tr th {\n",
       "        vertical-align: top;\n",
       "    }\n",
       "\n",
       "    .dataframe thead th {\n",
       "        text-align: right;\n",
       "    }\n",
       "</style>\n",
       "<table border=\"1\" class=\"dataframe\">\n",
       "  <thead>\n",
       "    <tr style=\"text-align: right;\">\n",
       "      <th></th>\n",
       "      <th>id</th>\n",
       "      <th>name</th>\n",
       "      <th>categories</th>\n",
       "      <th>referralId</th>\n",
       "      <th>hasPerk</th>\n",
       "      <th>location.address</th>\n",
       "      <th>location.crossStreet</th>\n",
       "      <th>location.lat</th>\n",
       "      <th>location.lng</th>\n",
       "      <th>location.labeledLatLngs</th>\n",
       "      <th>...</th>\n",
       "      <th>location.country</th>\n",
       "      <th>location.formattedAddress</th>\n",
       "      <th>venuePage.id</th>\n",
       "      <th>delivery.id</th>\n",
       "      <th>delivery.url</th>\n",
       "      <th>delivery.provider.name</th>\n",
       "      <th>delivery.provider.icon.prefix</th>\n",
       "      <th>delivery.provider.icon.sizes</th>\n",
       "      <th>delivery.provider.icon.name</th>\n",
       "      <th>location.neighborhood</th>\n",
       "    </tr>\n",
       "  </thead>\n",
       "  <tbody>\n",
       "    <tr>\n",
       "      <th>0</th>\n",
       "      <td>4b53367af964a5208e9227e3</td>\n",
       "      <td>New York City Center</td>\n",
       "      <td>[{'id': '4bf58dd8d48988d137941735', 'name': 'T...</td>\n",
       "      <td>v-1592787725</td>\n",
       "      <td>False</td>\n",
       "      <td>131 W 55th St</td>\n",
       "      <td>btwn 6th &amp; 7th Ave</td>\n",
       "      <td>40.763927</td>\n",
       "      <td>-73.979503</td>\n",
       "      <td>[{'label': 'display', 'lat': 40.76392698771681...</td>\n",
       "      <td>...</td>\n",
       "      <td>United States</td>\n",
       "      <td>[131 W 55th St (btwn 6th &amp; 7th Ave), New York,...</td>\n",
       "      <td>35937794</td>\n",
       "      <td>NaN</td>\n",
       "      <td>NaN</td>\n",
       "      <td>NaN</td>\n",
       "      <td>NaN</td>\n",
       "      <td>NaN</td>\n",
       "      <td>NaN</td>\n",
       "      <td>NaN</td>\n",
       "    </tr>\n",
       "    <tr>\n",
       "      <th>1</th>\n",
       "      <td>4b8edbebf964a520473b33e3</td>\n",
       "      <td>CitySpire</td>\n",
       "      <td>[{'id': '4bf58dd8d48988d130941735', 'name': 'B...</td>\n",
       "      <td>v-1592787725</td>\n",
       "      <td>False</td>\n",
       "      <td>156 W 56th St</td>\n",
       "      <td>NaN</td>\n",
       "      <td>40.763312</td>\n",
       "      <td>-73.979472</td>\n",
       "      <td>[{'label': 'display', 'lat': 40.76331174213796...</td>\n",
       "      <td>...</td>\n",
       "      <td>United States</td>\n",
       "      <td>[156 W 56th St, New York, NY 10019, United Sta...</td>\n",
       "      <td>NaN</td>\n",
       "      <td>NaN</td>\n",
       "      <td>NaN</td>\n",
       "      <td>NaN</td>\n",
       "      <td>NaN</td>\n",
       "      <td>NaN</td>\n",
       "      <td>NaN</td>\n",
       "      <td>NaN</td>\n",
       "    </tr>\n",
       "    <tr>\n",
       "      <th>2</th>\n",
       "      <td>4aee1ed1f964a52048d221e3</td>\n",
       "      <td>New York City Center Stage I</td>\n",
       "      <td>[{'id': '4bf58dd8d48988d137941735', 'name': 'T...</td>\n",
       "      <td>v-1592787725</td>\n",
       "      <td>False</td>\n",
       "      <td>131 W 55th St</td>\n",
       "      <td>btw 6th &amp; 7th Ave</td>\n",
       "      <td>40.763932</td>\n",
       "      <td>-73.979399</td>\n",
       "      <td>[{'label': 'display', 'lat': 40.76393200000000...</td>\n",
       "      <td>...</td>\n",
       "      <td>United States</td>\n",
       "      <td>[131 W 55th St (btw 6th &amp; 7th Ave), New York, ...</td>\n",
       "      <td>NaN</td>\n",
       "      <td>NaN</td>\n",
       "      <td>NaN</td>\n",
       "      <td>NaN</td>\n",
       "      <td>NaN</td>\n",
       "      <td>NaN</td>\n",
       "      <td>NaN</td>\n",
       "      <td>NaN</td>\n",
       "    </tr>\n",
       "    <tr>\n",
       "      <th>3</th>\n",
       "      <td>516eb849e4b042332cd7a5b3</td>\n",
       "      <td>6 1/2 Avenue</td>\n",
       "      <td>[{'id': '52e81612bcbc57f1066b7a25', 'name': 'P...</td>\n",
       "      <td>v-1592787725</td>\n",
       "      <td>False</td>\n",
       "      <td>6 1/2 Ave</td>\n",
       "      <td>btwn W 51st &amp; W 57th Sts</td>\n",
       "      <td>40.763458</td>\n",
       "      <td>-73.980100</td>\n",
       "      <td>[{'label': 'display', 'lat': 40.76345848310408...</td>\n",
       "      <td>...</td>\n",
       "      <td>United States</td>\n",
       "      <td>[6 1/2 Ave (btwn W 51st &amp; W 57th Sts), New Yor...</td>\n",
       "      <td>NaN</td>\n",
       "      <td>NaN</td>\n",
       "      <td>NaN</td>\n",
       "      <td>NaN</td>\n",
       "      <td>NaN</td>\n",
       "      <td>NaN</td>\n",
       "      <td>NaN</td>\n",
       "      <td>NaN</td>\n",
       "    </tr>\n",
       "    <tr>\n",
       "      <th>4</th>\n",
       "      <td>580b8fa5d67c230d46aa5551</td>\n",
       "      <td>Black Tap</td>\n",
       "      <td>[{'id': '4bf58dd8d48988d16c941735', 'name': 'B...</td>\n",
       "      <td>v-1592787725</td>\n",
       "      <td>False</td>\n",
       "      <td>136 W 55th St</td>\n",
       "      <td>NaN</td>\n",
       "      <td>40.763548</td>\n",
       "      <td>-73.979763</td>\n",
       "      <td>[{'label': 'display', 'lat': 40.76354829292842...</td>\n",
       "      <td>...</td>\n",
       "      <td>United States</td>\n",
       "      <td>[136 W 55th St, New York, NY 10019, United Sta...</td>\n",
       "      <td>NaN</td>\n",
       "      <td>2034711</td>\n",
       "      <td>https://www.seamless.com/menu/black-tap-midtow...</td>\n",
       "      <td>seamless</td>\n",
       "      <td>https://fastly.4sqi.net/img/general/cap/</td>\n",
       "      <td>[40, 50]</td>\n",
       "      <td>/delivery_provider_seamless_20180129.png</td>\n",
       "      <td>NaN</td>\n",
       "    </tr>\n",
       "  </tbody>\n",
       "</table>\n",
       "<p>5 rows × 25 columns</p>\n",
       "</div>"
      ],
      "text/plain": [
       "                         id                          name  \\\n",
       "0  4b53367af964a5208e9227e3          New York City Center   \n",
       "1  4b8edbebf964a520473b33e3                     CitySpire   \n",
       "2  4aee1ed1f964a52048d221e3  New York City Center Stage I   \n",
       "3  516eb849e4b042332cd7a5b3                  6 1/2 Avenue   \n",
       "4  580b8fa5d67c230d46aa5551                     Black Tap   \n",
       "\n",
       "                                          categories    referralId  hasPerk  \\\n",
       "0  [{'id': '4bf58dd8d48988d137941735', 'name': 'T...  v-1592787725    False   \n",
       "1  [{'id': '4bf58dd8d48988d130941735', 'name': 'B...  v-1592787725    False   \n",
       "2  [{'id': '4bf58dd8d48988d137941735', 'name': 'T...  v-1592787725    False   \n",
       "3  [{'id': '52e81612bcbc57f1066b7a25', 'name': 'P...  v-1592787725    False   \n",
       "4  [{'id': '4bf58dd8d48988d16c941735', 'name': 'B...  v-1592787725    False   \n",
       "\n",
       "  location.address      location.crossStreet  location.lat  location.lng  \\\n",
       "0    131 W 55th St        btwn 6th & 7th Ave     40.763927    -73.979503   \n",
       "1    156 W 56th St                       NaN     40.763312    -73.979472   \n",
       "2    131 W 55th St         btw 6th & 7th Ave     40.763932    -73.979399   \n",
       "3        6 1/2 Ave  btwn W 51st & W 57th Sts     40.763458    -73.980100   \n",
       "4    136 W 55th St                       NaN     40.763548    -73.979763   \n",
       "\n",
       "                             location.labeledLatLngs  ...  location.country  \\\n",
       "0  [{'label': 'display', 'lat': 40.76392698771681...  ...     United States   \n",
       "1  [{'label': 'display', 'lat': 40.76331174213796...  ...     United States   \n",
       "2  [{'label': 'display', 'lat': 40.76393200000000...  ...     United States   \n",
       "3  [{'label': 'display', 'lat': 40.76345848310408...  ...     United States   \n",
       "4  [{'label': 'display', 'lat': 40.76354829292842...  ...     United States   \n",
       "\n",
       "                           location.formattedAddress venuePage.id delivery.id  \\\n",
       "0  [131 W 55th St (btwn 6th & 7th Ave), New York,...     35937794         NaN   \n",
       "1  [156 W 56th St, New York, NY 10019, United Sta...          NaN         NaN   \n",
       "2  [131 W 55th St (btw 6th & 7th Ave), New York, ...          NaN         NaN   \n",
       "3  [6 1/2 Ave (btwn W 51st & W 57th Sts), New Yor...          NaN         NaN   \n",
       "4  [136 W 55th St, New York, NY 10019, United Sta...          NaN     2034711   \n",
       "\n",
       "                                        delivery.url delivery.provider.name  \\\n",
       "0                                                NaN                    NaN   \n",
       "1                                                NaN                    NaN   \n",
       "2                                                NaN                    NaN   \n",
       "3                                                NaN                    NaN   \n",
       "4  https://www.seamless.com/menu/black-tap-midtow...               seamless   \n",
       "\n",
       "              delivery.provider.icon.prefix delivery.provider.icon.sizes  \\\n",
       "0                                       NaN                          NaN   \n",
       "1                                       NaN                          NaN   \n",
       "2                                       NaN                          NaN   \n",
       "3                                       NaN                          NaN   \n",
       "4  https://fastly.4sqi.net/img/general/cap/                     [40, 50]   \n",
       "\n",
       "                delivery.provider.icon.name location.neighborhood  \n",
       "0                                       NaN                   NaN  \n",
       "1                                       NaN                   NaN  \n",
       "2                                       NaN                   NaN  \n",
       "3                                       NaN                   NaN  \n",
       "4  /delivery_provider_seamless_20180129.png                   NaN  \n",
       "\n",
       "[5 rows x 25 columns]"
      ]
     },
     "execution_count": 18,
     "metadata": {},
     "output_type": "execute_result"
    }
   ],
   "source": [
    "# assign relevant part of JSON to venues\n",
    "venues = results['response']['venues']\n",
    "\n",
    "# tranform venues into a dataframe\n",
    "dataframe = pd.json_normalize(venues)\n",
    "dataframe.head()"
   ]
  },
  {
   "cell_type": "markdown",
   "metadata": {},
   "source": [
    "#### Define relevant information and filter it"
   ]
  },
  {
   "cell_type": "code",
   "execution_count": 19,
   "metadata": {},
   "outputs": [
    {
     "data": {
      "text/html": [
       "<div>\n",
       "<style scoped>\n",
       "    .dataframe tbody tr th:only-of-type {\n",
       "        vertical-align: middle;\n",
       "    }\n",
       "\n",
       "    .dataframe tbody tr th {\n",
       "        vertical-align: top;\n",
       "    }\n",
       "\n",
       "    .dataframe thead th {\n",
       "        text-align: right;\n",
       "    }\n",
       "</style>\n",
       "<table border=\"1\" class=\"dataframe\">\n",
       "  <thead>\n",
       "    <tr style=\"text-align: right;\">\n",
       "      <th></th>\n",
       "      <th>name</th>\n",
       "      <th>categories</th>\n",
       "      <th>address</th>\n",
       "      <th>crossStreet</th>\n",
       "      <th>lat</th>\n",
       "      <th>lng</th>\n",
       "      <th>labeledLatLngs</th>\n",
       "      <th>distance</th>\n",
       "      <th>postalCode</th>\n",
       "      <th>cc</th>\n",
       "      <th>city</th>\n",
       "      <th>state</th>\n",
       "      <th>country</th>\n",
       "      <th>formattedAddress</th>\n",
       "      <th>neighborhood</th>\n",
       "      <th>id</th>\n",
       "    </tr>\n",
       "  </thead>\n",
       "  <tbody>\n",
       "    <tr>\n",
       "      <th>0</th>\n",
       "      <td>New York City Center</td>\n",
       "      <td>Theater</td>\n",
       "      <td>131 W 55th St</td>\n",
       "      <td>btwn 6th &amp; 7th Ave</td>\n",
       "      <td>40.763927</td>\n",
       "      <td>-73.979503</td>\n",
       "      <td>[{'label': 'display', 'lat': 40.76392698771681...</td>\n",
       "      <td>21</td>\n",
       "      <td>10019</td>\n",
       "      <td>US</td>\n",
       "      <td>New York</td>\n",
       "      <td>NY</td>\n",
       "      <td>United States</td>\n",
       "      <td>[131 W 55th St (btwn 6th &amp; 7th Ave), New York,...</td>\n",
       "      <td>NaN</td>\n",
       "      <td>4b53367af964a5208e9227e3</td>\n",
       "    </tr>\n",
       "    <tr>\n",
       "      <th>1</th>\n",
       "      <td>CitySpire</td>\n",
       "      <td>Building</td>\n",
       "      <td>156 W 56th St</td>\n",
       "      <td>NaN</td>\n",
       "      <td>40.763312</td>\n",
       "      <td>-73.979472</td>\n",
       "      <td>[{'label': 'display', 'lat': 40.76331174213796...</td>\n",
       "      <td>51</td>\n",
       "      <td>10019</td>\n",
       "      <td>US</td>\n",
       "      <td>New York</td>\n",
       "      <td>NY</td>\n",
       "      <td>United States</td>\n",
       "      <td>[156 W 56th St, New York, NY 10019, United Sta...</td>\n",
       "      <td>NaN</td>\n",
       "      <td>4b8edbebf964a520473b33e3</td>\n",
       "    </tr>\n",
       "    <tr>\n",
       "      <th>2</th>\n",
       "      <td>New York City Center Stage I</td>\n",
       "      <td>Theater</td>\n",
       "      <td>131 W 55th St</td>\n",
       "      <td>btw 6th &amp; 7th Ave</td>\n",
       "      <td>40.763932</td>\n",
       "      <td>-73.979399</td>\n",
       "      <td>[{'label': 'display', 'lat': 40.76393200000000...</td>\n",
       "      <td>27</td>\n",
       "      <td>NaN</td>\n",
       "      <td>US</td>\n",
       "      <td>New York</td>\n",
       "      <td>NY</td>\n",
       "      <td>United States</td>\n",
       "      <td>[131 W 55th St (btw 6th &amp; 7th Ave), New York, ...</td>\n",
       "      <td>NaN</td>\n",
       "      <td>4aee1ed1f964a52048d221e3</td>\n",
       "    </tr>\n",
       "    <tr>\n",
       "      <th>3</th>\n",
       "      <td>6 1/2 Avenue</td>\n",
       "      <td>Pedestrian Plaza</td>\n",
       "      <td>6 1/2 Ave</td>\n",
       "      <td>btwn W 51st &amp; W 57th Sts</td>\n",
       "      <td>40.763458</td>\n",
       "      <td>-73.980100</td>\n",
       "      <td>[{'label': 'display', 'lat': 40.76345848310408...</td>\n",
       "      <td>52</td>\n",
       "      <td>10019</td>\n",
       "      <td>US</td>\n",
       "      <td>New York</td>\n",
       "      <td>NY</td>\n",
       "      <td>United States</td>\n",
       "      <td>[6 1/2 Ave (btwn W 51st &amp; W 57th Sts), New Yor...</td>\n",
       "      <td>NaN</td>\n",
       "      <td>516eb849e4b042332cd7a5b3</td>\n",
       "    </tr>\n",
       "    <tr>\n",
       "      <th>4</th>\n",
       "      <td>Black Tap</td>\n",
       "      <td>Burger Joint</td>\n",
       "      <td>136 W 55th St</td>\n",
       "      <td>NaN</td>\n",
       "      <td>40.763548</td>\n",
       "      <td>-73.979763</td>\n",
       "      <td>[{'label': 'display', 'lat': 40.76354829292842...</td>\n",
       "      <td>25</td>\n",
       "      <td>10019</td>\n",
       "      <td>US</td>\n",
       "      <td>New York</td>\n",
       "      <td>NY</td>\n",
       "      <td>United States</td>\n",
       "      <td>[136 W 55th St, New York, NY 10019, United Sta...</td>\n",
       "      <td>NaN</td>\n",
       "      <td>580b8fa5d67c230d46aa5551</td>\n",
       "    </tr>\n",
       "  </tbody>\n",
       "</table>\n",
       "</div>"
      ],
      "text/plain": [
       "                           name        categories        address  \\\n",
       "0          New York City Center           Theater  131 W 55th St   \n",
       "1                     CitySpire          Building  156 W 56th St   \n",
       "2  New York City Center Stage I           Theater  131 W 55th St   \n",
       "3                  6 1/2 Avenue  Pedestrian Plaza      6 1/2 Ave   \n",
       "4                     Black Tap      Burger Joint  136 W 55th St   \n",
       "\n",
       "                crossStreet        lat        lng  \\\n",
       "0        btwn 6th & 7th Ave  40.763927 -73.979503   \n",
       "1                       NaN  40.763312 -73.979472   \n",
       "2         btw 6th & 7th Ave  40.763932 -73.979399   \n",
       "3  btwn W 51st & W 57th Sts  40.763458 -73.980100   \n",
       "4                       NaN  40.763548 -73.979763   \n",
       "\n",
       "                                      labeledLatLngs  distance postalCode  cc  \\\n",
       "0  [{'label': 'display', 'lat': 40.76392698771681...        21      10019  US   \n",
       "1  [{'label': 'display', 'lat': 40.76331174213796...        51      10019  US   \n",
       "2  [{'label': 'display', 'lat': 40.76393200000000...        27        NaN  US   \n",
       "3  [{'label': 'display', 'lat': 40.76345848310408...        52      10019  US   \n",
       "4  [{'label': 'display', 'lat': 40.76354829292842...        25      10019  US   \n",
       "\n",
       "       city state        country  \\\n",
       "0  New York    NY  United States   \n",
       "1  New York    NY  United States   \n",
       "2  New York    NY  United States   \n",
       "3  New York    NY  United States   \n",
       "4  New York    NY  United States   \n",
       "\n",
       "                                    formattedAddress neighborhood  \\\n",
       "0  [131 W 55th St (btwn 6th & 7th Ave), New York,...          NaN   \n",
       "1  [156 W 56th St, New York, NY 10019, United Sta...          NaN   \n",
       "2  [131 W 55th St (btw 6th & 7th Ave), New York, ...          NaN   \n",
       "3  [6 1/2 Ave (btwn W 51st & W 57th Sts), New Yor...          NaN   \n",
       "4  [136 W 55th St, New York, NY 10019, United Sta...          NaN   \n",
       "\n",
       "                         id  \n",
       "0  4b53367af964a5208e9227e3  \n",
       "1  4b8edbebf964a520473b33e3  \n",
       "2  4aee1ed1f964a52048d221e3  \n",
       "3  516eb849e4b042332cd7a5b3  \n",
       "4  580b8fa5d67c230d46aa5551  "
      ]
     },
     "execution_count": 19,
     "metadata": {},
     "output_type": "execute_result"
    }
   ],
   "source": [
    "# keep only columns that include venue name, and anything that is associated with location\n",
    "filtered_columns = ['name', 'categories'] + [col for col in dataframe.columns if col.startswith('location.')] + ['id']\n",
    "dataframe_filtered = dataframe.loc[:, filtered_columns]\n",
    "\n",
    "# function that extracts the category of the venue\n",
    "def get_category_type(row):\n",
    "    try:\n",
    "        categories_list = row['categories']\n",
    "    except:\n",
    "        categories_list = row['venue.categories']\n",
    "        \n",
    "    if len(categories_list) == 0:\n",
    "        return None\n",
    "    else:\n",
    "        return categories_list[0]['name']\n",
    "\n",
    "# filter the category for each row\n",
    "dataframe_filtered['categories'] = dataframe_filtered.apply(get_category_type, axis=1)\n",
    "\n",
    "# clean column names by keeping only last term\n",
    "dataframe_filtered.columns = [column.split('.')[-1] for column in dataframe_filtered.columns]\n",
    "\n",
    "dataframe_filtered.head()"
   ]
  },
  {
   "cell_type": "markdown",
   "metadata": {},
   "source": [
    "#### We can access the place by using this"
   ]
  },
  {
   "cell_type": "code",
   "execution_count": 20,
   "metadata": {},
   "outputs": [
    {
     "data": {
      "text/plain": [
       "'4b53367af964a5208e9227e3'"
      ]
     },
     "execution_count": 20,
     "metadata": {},
     "output_type": "execute_result"
    }
   ],
   "source": [
    "dataframe_filtered.id[0]"
   ]
  },
  {
   "cell_type": "markdown",
   "metadata": {},
   "source": [
    "# Exploring the Venues data"
   ]
  },
  {
   "cell_type": "code",
   "execution_count": 21,
   "metadata": {},
   "outputs": [
    {
     "data": {
      "text/plain": [
       "'https://api.foursquare.com/v2/venues/4b53367af964a5208e9227e3?client_id=JQJQW40C5FYJHG3OXKKT0KCKYWPVQM4GXLJ453Z5YHA5ZISH&client_secret=BOONQ5BMUHZ03WYNFU2REQ115M0OGNA2XAH3BFENFTNN4SRU&v=20180604'"
      ]
     },
     "execution_count": 21,
     "metadata": {},
     "output_type": "execute_result"
    }
   ],
   "source": [
    "venue_id = dataframe_filtered.id[0]\n",
    "url = 'https://api.foursquare.com/v2/venues/{}?client_id={}&client_secret={}&v={}'.format(venue_id, CLIENT_ID, CLIENT_SECRET, VERSION)\n",
    "url"
   ]
  },
  {
   "cell_type": "code",
   "execution_count": 22,
   "metadata": {},
   "outputs": [
    {
     "name": "stdout",
     "output_type": "stream",
     "text": [
      "dict_keys(['id', 'name', 'contact', 'location', 'canonicalUrl', 'categories', 'verified', 'stats', 'url', 'likes', 'dislike', 'ok', 'rating', 'ratingColor', 'ratingSignals', 'allowMenuUrlEdit', 'beenHere', 'specials', 'photos', 'venuePage', 'reasons', 'description', 'page', 'hereNow', 'createdAt', 'tips', 'shortUrl', 'timeZone', 'listed', 'popular', 'seasonalHours', 'pageUpdates', 'inbox', 'attributes', 'bestPhoto', 'colors'])\n"
     ]
    }
   ],
   "source": [
    "#Getting the result\n",
    "result = requests.get(url).json()\n",
    "print(result['response']['venue'].keys())"
   ]
  },
  {
   "cell_type": "code",
   "execution_count": 25,
   "metadata": {},
   "outputs": [
    {
     "name": "stdout",
     "output_type": "stream",
     "text": [
      "9.0\n"
     ]
    }
   ],
   "source": [
    "rating = result['response']['venue']['rating']\n",
    "print(rating)"
   ]
  },
  {
   "cell_type": "code",
   "execution_count": null,
   "metadata": {},
   "outputs": [],
   "source": [
    "dataframe_filtered.id[4]"
   ]
  },
  {
   "cell_type": "code",
   "execution_count": 24,
   "metadata": {},
   "outputs": [],
   "source": [
    "ratingList = []"
   ]
  },
  {
   "cell_type": "markdown",
   "metadata": {},
   "source": [
    "# Extracting all the ratings values of the venues "
   ]
  },
  {
   "cell_type": "code",
   "execution_count": 26,
   "metadata": {},
   "outputs": [
    {
     "name": "stdout",
     "output_type": "stream",
     "text": [
      "[9.0, 11.0, 5.2, 11.0, 7.6, 7.3, 8.1, 7.5, 8.3, 5.9, 8.9, 11.0, 6.6, 11.0, 8.5, 8.8, 11.0, 8.9, 11.0, 11.0, 11.0, 8.1, 11.0, 6.2, 11.0, 11.0, 11.0, 11.0, 11.0, 11.0]\n"
     ]
    }
   ],
   "source": [
    "for ind in dataframe_filtered.index:\n",
    "    venue_id = dataframe_filtered.id[ind]\n",
    "    url = 'https://api.foursquare.com/v2/venues/{}?client_id={}&client_secret={}&v={}'.format(venue_id, CLIENT_ID, CLIENT_SECRET, VERSION)\n",
    "    result = requests.get(url).json()\n",
    "    #rating = result['response']['venue']['rating']\n",
    "    try:\n",
    "        rating = result['response']['venue']['rating']\n",
    "    except:\n",
    "        rating = 11.0\n",
    "    ratingList.append(rating)\n",
    "    \n",
    "print(ratingList)"
   ]
  },
  {
   "cell_type": "code",
   "execution_count": 33,
   "metadata": {},
   "outputs": [
    {
     "data": {
      "text/html": [
       "<div>\n",
       "<style scoped>\n",
       "    .dataframe tbody tr th:only-of-type {\n",
       "        vertical-align: middle;\n",
       "    }\n",
       "\n",
       "    .dataframe tbody tr th {\n",
       "        vertical-align: top;\n",
       "    }\n",
       "\n",
       "    .dataframe thead th {\n",
       "        text-align: right;\n",
       "    }\n",
       "</style>\n",
       "<table border=\"1\" class=\"dataframe\">\n",
       "  <thead>\n",
       "    <tr style=\"text-align: right;\">\n",
       "      <th></th>\n",
       "      <th>name</th>\n",
       "      <th>categories</th>\n",
       "      <th>address</th>\n",
       "      <th>crossStreet</th>\n",
       "      <th>lat</th>\n",
       "      <th>lng</th>\n",
       "      <th>labeledLatLngs</th>\n",
       "      <th>distance</th>\n",
       "      <th>postalCode</th>\n",
       "      <th>cc</th>\n",
       "      <th>city</th>\n",
       "      <th>state</th>\n",
       "      <th>country</th>\n",
       "      <th>formattedAddress</th>\n",
       "      <th>neighborhood</th>\n",
       "      <th>id</th>\n",
       "      <th>Rating</th>\n",
       "    </tr>\n",
       "  </thead>\n",
       "  <tbody>\n",
       "    <tr>\n",
       "      <th>0</th>\n",
       "      <td>New York City Center</td>\n",
       "      <td>Theater</td>\n",
       "      <td>131 W 55th St</td>\n",
       "      <td>btwn 6th &amp; 7th Ave</td>\n",
       "      <td>40.763927</td>\n",
       "      <td>-73.979503</td>\n",
       "      <td>[{'label': 'display', 'lat': 40.76392698771681...</td>\n",
       "      <td>21</td>\n",
       "      <td>10019</td>\n",
       "      <td>US</td>\n",
       "      <td>New York</td>\n",
       "      <td>NY</td>\n",
       "      <td>United States</td>\n",
       "      <td>[131 W 55th St (btwn 6th &amp; 7th Ave), New York,...</td>\n",
       "      <td>NaN</td>\n",
       "      <td>4b53367af964a5208e9227e3</td>\n",
       "      <td>9.0</td>\n",
       "    </tr>\n",
       "    <tr>\n",
       "      <th>1</th>\n",
       "      <td>CitySpire</td>\n",
       "      <td>Building</td>\n",
       "      <td>156 W 56th St</td>\n",
       "      <td>NaN</td>\n",
       "      <td>40.763312</td>\n",
       "      <td>-73.979472</td>\n",
       "      <td>[{'label': 'display', 'lat': 40.76331174213796...</td>\n",
       "      <td>51</td>\n",
       "      <td>10019</td>\n",
       "      <td>US</td>\n",
       "      <td>New York</td>\n",
       "      <td>NY</td>\n",
       "      <td>United States</td>\n",
       "      <td>[156 W 56th St, New York, NY 10019, United Sta...</td>\n",
       "      <td>NaN</td>\n",
       "      <td>4b8edbebf964a520473b33e3</td>\n",
       "      <td>11.0</td>\n",
       "    </tr>\n",
       "    <tr>\n",
       "      <th>2</th>\n",
       "      <td>New York City Center Stage I</td>\n",
       "      <td>Theater</td>\n",
       "      <td>131 W 55th St</td>\n",
       "      <td>btw 6th &amp; 7th Ave</td>\n",
       "      <td>40.763932</td>\n",
       "      <td>-73.979399</td>\n",
       "      <td>[{'label': 'display', 'lat': 40.76393200000000...</td>\n",
       "      <td>27</td>\n",
       "      <td>NaN</td>\n",
       "      <td>US</td>\n",
       "      <td>New York</td>\n",
       "      <td>NY</td>\n",
       "      <td>United States</td>\n",
       "      <td>[131 W 55th St (btw 6th &amp; 7th Ave), New York, ...</td>\n",
       "      <td>NaN</td>\n",
       "      <td>4aee1ed1f964a52048d221e3</td>\n",
       "      <td>5.2</td>\n",
       "    </tr>\n",
       "    <tr>\n",
       "      <th>3</th>\n",
       "      <td>6 1/2 Avenue</td>\n",
       "      <td>Pedestrian Plaza</td>\n",
       "      <td>6 1/2 Ave</td>\n",
       "      <td>btwn W 51st &amp; W 57th Sts</td>\n",
       "      <td>40.763458</td>\n",
       "      <td>-73.980100</td>\n",
       "      <td>[{'label': 'display', 'lat': 40.76345848310408...</td>\n",
       "      <td>52</td>\n",
       "      <td>10019</td>\n",
       "      <td>US</td>\n",
       "      <td>New York</td>\n",
       "      <td>NY</td>\n",
       "      <td>United States</td>\n",
       "      <td>[6 1/2 Ave (btwn W 51st &amp; W 57th Sts), New Yor...</td>\n",
       "      <td>NaN</td>\n",
       "      <td>516eb849e4b042332cd7a5b3</td>\n",
       "      <td>11.0</td>\n",
       "    </tr>\n",
       "    <tr>\n",
       "      <th>4</th>\n",
       "      <td>Black Tap</td>\n",
       "      <td>Burger Joint</td>\n",
       "      <td>136 W 55th St</td>\n",
       "      <td>NaN</td>\n",
       "      <td>40.763548</td>\n",
       "      <td>-73.979763</td>\n",
       "      <td>[{'label': 'display', 'lat': 40.76354829292842...</td>\n",
       "      <td>25</td>\n",
       "      <td>10019</td>\n",
       "      <td>US</td>\n",
       "      <td>New York</td>\n",
       "      <td>NY</td>\n",
       "      <td>United States</td>\n",
       "      <td>[136 W 55th St, New York, NY 10019, United Sta...</td>\n",
       "      <td>NaN</td>\n",
       "      <td>580b8fa5d67c230d46aa5551</td>\n",
       "      <td>7.6</td>\n",
       "    </tr>\n",
       "  </tbody>\n",
       "</table>\n",
       "</div>"
      ],
      "text/plain": [
       "                           name        categories        address  \\\n",
       "0          New York City Center           Theater  131 W 55th St   \n",
       "1                     CitySpire          Building  156 W 56th St   \n",
       "2  New York City Center Stage I           Theater  131 W 55th St   \n",
       "3                  6 1/2 Avenue  Pedestrian Plaza      6 1/2 Ave   \n",
       "4                     Black Tap      Burger Joint  136 W 55th St   \n",
       "\n",
       "                crossStreet        lat        lng  \\\n",
       "0        btwn 6th & 7th Ave  40.763927 -73.979503   \n",
       "1                       NaN  40.763312 -73.979472   \n",
       "2         btw 6th & 7th Ave  40.763932 -73.979399   \n",
       "3  btwn W 51st & W 57th Sts  40.763458 -73.980100   \n",
       "4                       NaN  40.763548 -73.979763   \n",
       "\n",
       "                                      labeledLatLngs  distance postalCode  cc  \\\n",
       "0  [{'label': 'display', 'lat': 40.76392698771681...        21      10019  US   \n",
       "1  [{'label': 'display', 'lat': 40.76331174213796...        51      10019  US   \n",
       "2  [{'label': 'display', 'lat': 40.76393200000000...        27        NaN  US   \n",
       "3  [{'label': 'display', 'lat': 40.76345848310408...        52      10019  US   \n",
       "4  [{'label': 'display', 'lat': 40.76354829292842...        25      10019  US   \n",
       "\n",
       "       city state        country  \\\n",
       "0  New York    NY  United States   \n",
       "1  New York    NY  United States   \n",
       "2  New York    NY  United States   \n",
       "3  New York    NY  United States   \n",
       "4  New York    NY  United States   \n",
       "\n",
       "                                    formattedAddress neighborhood  \\\n",
       "0  [131 W 55th St (btwn 6th & 7th Ave), New York,...          NaN   \n",
       "1  [156 W 56th St, New York, NY 10019, United Sta...          NaN   \n",
       "2  [131 W 55th St (btw 6th & 7th Ave), New York, ...          NaN   \n",
       "3  [6 1/2 Ave (btwn W 51st & W 57th Sts), New Yor...          NaN   \n",
       "4  [136 W 55th St, New York, NY 10019, United Sta...          NaN   \n",
       "\n",
       "                         id  Rating  \n",
       "0  4b53367af964a5208e9227e3     9.0  \n",
       "1  4b8edbebf964a520473b33e3    11.0  \n",
       "2  4aee1ed1f964a52048d221e3     5.2  \n",
       "3  516eb849e4b042332cd7a5b3    11.0  \n",
       "4  580b8fa5d67c230d46aa5551     7.6  "
      ]
     },
     "execution_count": 33,
     "metadata": {},
     "output_type": "execute_result"
    }
   ],
   "source": [
    "#Rating dataframe\n",
    "dfRating = pd.DataFrame(ratingList, columns = ['Rating'])\n",
    "#Dataframe filtered receives the dfRating\n",
    "dataframe_filtered['Rating'] = dfRating\n",
    "dataframe_filtered.head()"
   ]
  },
  {
   "cell_type": "markdown",
   "metadata": {},
   "source": [
    "##### Places no rated yet was set as rate = 11.0. \n",
    "- I am doing this because a no rated place cannot be classified as a bad experience, and for this purpose, they are not relevant... \n",
    "- Also, it will be removed in the next line of code where we filter the date based on the minimum rating"
   ]
  },
  {
   "cell_type": "markdown",
   "metadata": {},
   "source": [
    "# Filtering the data based on the minimu rating value"
   ]
  },
  {
   "cell_type": "code",
   "execution_count": 35,
   "metadata": {},
   "outputs": [
    {
     "data": {
      "text/html": [
       "<div>\n",
       "<style scoped>\n",
       "    .dataframe tbody tr th:only-of-type {\n",
       "        vertical-align: middle;\n",
       "    }\n",
       "\n",
       "    .dataframe tbody tr th {\n",
       "        vertical-align: top;\n",
       "    }\n",
       "\n",
       "    .dataframe thead th {\n",
       "        text-align: right;\n",
       "    }\n",
       "</style>\n",
       "<table border=\"1\" class=\"dataframe\">\n",
       "  <thead>\n",
       "    <tr style=\"text-align: right;\">\n",
       "      <th></th>\n",
       "      <th>name</th>\n",
       "      <th>categories</th>\n",
       "      <th>address</th>\n",
       "      <th>crossStreet</th>\n",
       "      <th>lat</th>\n",
       "      <th>lng</th>\n",
       "      <th>labeledLatLngs</th>\n",
       "      <th>distance</th>\n",
       "      <th>postalCode</th>\n",
       "      <th>cc</th>\n",
       "      <th>city</th>\n",
       "      <th>state</th>\n",
       "      <th>country</th>\n",
       "      <th>formattedAddress</th>\n",
       "      <th>neighborhood</th>\n",
       "      <th>id</th>\n",
       "      <th>Rating</th>\n",
       "    </tr>\n",
       "  </thead>\n",
       "  <tbody>\n",
       "    <tr>\n",
       "      <th>2</th>\n",
       "      <td>New York City Center Stage I</td>\n",
       "      <td>Theater</td>\n",
       "      <td>131 W 55th St</td>\n",
       "      <td>btw 6th &amp; 7th Ave</td>\n",
       "      <td>40.763932</td>\n",
       "      <td>-73.979399</td>\n",
       "      <td>[{'label': 'display', 'lat': 40.76393200000000...</td>\n",
       "      <td>27</td>\n",
       "      <td>NaN</td>\n",
       "      <td>US</td>\n",
       "      <td>New York</td>\n",
       "      <td>NY</td>\n",
       "      <td>United States</td>\n",
       "      <td>[131 W 55th St (btw 6th &amp; 7th Ave), New York, ...</td>\n",
       "      <td>NaN</td>\n",
       "      <td>4aee1ed1f964a52048d221e3</td>\n",
       "      <td>5.2</td>\n",
       "    </tr>\n",
       "    <tr>\n",
       "      <th>9</th>\n",
       "      <td>Hertz</td>\n",
       "      <td>Rental Car Location</td>\n",
       "      <td>126 West 55th Street,</td>\n",
       "      <td>NaN</td>\n",
       "      <td>40.763500</td>\n",
       "      <td>-73.979538</td>\n",
       "      <td>[{'label': 'routing', 'lat': 40.763324, 'lng':...</td>\n",
       "      <td>29</td>\n",
       "      <td>10019</td>\n",
       "      <td>US</td>\n",
       "      <td>New York</td>\n",
       "      <td>NY</td>\n",
       "      <td>United States</td>\n",
       "      <td>[126 West 55th Street,, New York, NY 10019, Un...</td>\n",
       "      <td>NaN</td>\n",
       "      <td>4bf6bfdeb1a7a5933ea5d65b</td>\n",
       "      <td>5.9</td>\n",
       "    </tr>\n",
       "  </tbody>\n",
       "</table>\n",
       "</div>"
      ],
      "text/plain": [
       "                           name           categories                address  \\\n",
       "2  New York City Center Stage I              Theater          131 W 55th St   \n",
       "9                         Hertz  Rental Car Location  126 West 55th Street,   \n",
       "\n",
       "         crossStreet        lat        lng  \\\n",
       "2  btw 6th & 7th Ave  40.763932 -73.979399   \n",
       "9                NaN  40.763500 -73.979538   \n",
       "\n",
       "                                      labeledLatLngs  distance postalCode  cc  \\\n",
       "2  [{'label': 'display', 'lat': 40.76393200000000...        27        NaN  US   \n",
       "9  [{'label': 'routing', 'lat': 40.763324, 'lng':...        29      10019  US   \n",
       "\n",
       "       city state        country  \\\n",
       "2  New York    NY  United States   \n",
       "9  New York    NY  United States   \n",
       "\n",
       "                                    formattedAddress neighborhood  \\\n",
       "2  [131 W 55th St (btw 6th & 7th Ave), New York, ...          NaN   \n",
       "9  [126 West 55th Street,, New York, NY 10019, Un...          NaN   \n",
       "\n",
       "                         id  Rating  \n",
       "2  4aee1ed1f964a52048d221e3     5.2  \n",
       "9  4bf6bfdeb1a7a5933ea5d65b     5.9  "
      ]
     },
     "execution_count": 35,
     "metadata": {},
     "output_type": "execute_result"
    }
   ],
   "source": [
    "dfLowRated = dataframe_filtered[dataframe_filtered.Rating < minimumRating]\n",
    "dfLowRated.head()"
   ]
  },
  {
   "cell_type": "markdown",
   "metadata": {},
   "source": [
    "# Create a map of the specified city:\n",
    "- city center is the blue spot;\n",
    "- places to be avoided are highlighted in red"
   ]
  },
  {
   "cell_type": "code",
   "execution_count": 47,
   "metadata": {},
   "outputs": [
    {
     "data": {
      "text/html": [
       "<div style=\"width:100%;\"><div style=\"position:relative;width:100%;height:0;padding-bottom:60%;\"><span style=\"color:#565656\">Make this Notebook Trusted to load map: File -> Trust Notebook</span><iframe src=\"about:blank\" style=\"position:absolute;width:100%;height:100%;left:0;top:0;border:none !important;\" data-html=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 onload=\"this.contentDocument.open();this.contentDocument.write(atob(this.getAttribute('data-html')));this.contentDocument.close();\" allowfullscreen webkitallowfullscreen mozallowfullscreen></iframe></div></div>"
      ],
      "text/plain": [
       "<folium.folium.Map at 0x7f0943965518>"
      ]
     },
     "execution_count": 47,
     "metadata": {},
     "output_type": "execute_result"
    }
   ],
   "source": [
    "definedMap = folium.Map(location=[latitude, longitude], zoom_start=15) # generate map centred around the Conrad Hotel\n",
    "\n",
    "# add a red circle marker to represent the Conrad Hotel\n",
    "folium.features.CircleMarker(\n",
    "    [latitude, longitude],\n",
    "    radius=5,\n",
    "    color='blue',\n",
    "    popup='Center',\n",
    "    fill = True,\n",
    "    fill_color = 'blue',\n",
    "    fill_opacity = 0.6\n",
    ").add_to(definedMap)\n",
    "\n",
    "# add the othre points as blue circle markers\n",
    "for lat, lng, name in zip(dfLowRated.lat, dfLowRated.lng, dfLowRated.name):\n",
    "    folium.features.CircleMarker(\n",
    "        [lat, lng],\n",
    "        radius=10,\n",
    "        color='red',\n",
    "        popup=name,\n",
    "        fill = True,\n",
    "        fill_color='red',\n",
    "        fill_opacity=0.2\n",
    "    ).add_to(definedMap)\n",
    "\n",
    "# display map\n",
    "definedMap"
   ]
  },
  {
   "cell_type": "markdown",
   "metadata": {},
   "source": [
    "## Results and Discussion <a name=\"results\"></a>"
   ]
  },
  {
   "cell_type": "markdown",
   "metadata": {},
   "source": [
    "My analysis can be flexible and customizable by the user, once a new address can be set, as well as the minimum rating value that will be considered by the analysis. If the user considers a place with rating = 7.5 as a bad rating, he can set the minimum rating value as 7.5 and all places with rating under 7.5 will be highlighted in the map as red, meaning that the user must avoid that place.\n",
    "\n",
    "When extracting the foursquare data, we are considering a limit of 30 records, once there is a limitation in the API consumption.\n",
    "\n",
    "Also an radius area = 500 is being considered when extracting the venues results.\n",
    "\n",
    "The result of red circles in the map will vary depending on the address inserted by the user and also based on the minimum rating inserted. The blue spot in the graph will always be the address entered by the user."
   ]
  },
  {
   "cell_type": "markdown",
   "metadata": {},
   "source": [
    "## Conclusion <a name=\"conclusion\"></a>"
   ]
  },
  {
   "cell_type": "markdown",
   "metadata": {},
   "source": [
    "Purpose of this project was to identify the areas close to center with low rating, so the user could get away of a bad experience. All kind of places is being considered. By extracting the venues from the Foursquare data, we were able to access their ratings and with that we could select only the venues with low rating in order to avoid a bad experience. \n",
    "\n",
    "With all the low rated places in hand, we were able to highlight in the map, with red circles, which were the places to be avoid.\n",
    "\n",
    "The sample was done with the New York city center, but can be replaced to any other place the user wants, the only thing needed it to define a new address in the beginning of the code.\n",
    "\n",
    "With the map and visual information, the user can now avoid a bad experience."
   ]
  }
 ],
 "metadata": {
  "kernelspec": {
   "display_name": "Python",
   "language": "python",
   "name": "conda-env-python-py"
  },
  "language_info": {
   "codemirror_mode": {
    "name": "ipython",
    "version": 3
   },
   "file_extension": ".py",
   "mimetype": "text/x-python",
   "name": "python",
   "nbconvert_exporter": "python",
   "pygments_lexer": "ipython3",
   "version": "3.6.10"
  }
 },
 "nbformat": 4,
 "nbformat_minor": 4
}
